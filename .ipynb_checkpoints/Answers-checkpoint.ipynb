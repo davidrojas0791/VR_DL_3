{
 "cells": [
  {
   "cell_type": "code",
   "execution_count": 2,
   "metadata": {},
   "outputs": [
    {
     "ename": "ModuleNotFoundError",
     "evalue": "No module named 'torch'",
     "output_type": "error",
     "traceback": [
      "\u001b[1;31m---------------------------------------------------------------------------\u001b[0m",
      "\u001b[1;31mModuleNotFoundError\u001b[0m                       Traceback (most recent call last)",
      "\u001b[1;32m<ipython-input-2-e1c5a12efc20>\u001b[0m in \u001b[0;36m<module>\u001b[1;34m()\u001b[0m\n\u001b[0;32m      7\u001b[0m \u001b[1;33m\u001b[0m\u001b[0m\n\u001b[0;32m      8\u001b[0m \u001b[1;31m# PyTorch and numpy related\u001b[0m\u001b[1;33m\u001b[0m\u001b[1;33m\u001b[0m\u001b[1;33m\u001b[0m\u001b[0m\n\u001b[1;32m----> 9\u001b[1;33m \u001b[1;32mimport\u001b[0m \u001b[0mtorch\u001b[0m\u001b[1;33m\u001b[0m\u001b[1;33m\u001b[0m\u001b[0m\n\u001b[0m\u001b[0;32m     10\u001b[0m \u001b[1;32mimport\u001b[0m \u001b[0mtorchvision\u001b[0m\u001b[1;33m\u001b[0m\u001b[1;33m\u001b[0m\u001b[0m\n\u001b[0;32m     11\u001b[0m \u001b[1;32mimport\u001b[0m \u001b[0mnumpy\u001b[0m \u001b[1;32mas\u001b[0m \u001b[0mnp\u001b[0m\u001b[1;33m\u001b[0m\u001b[1;33m\u001b[0m\u001b[0m\n",
      "\u001b[1;31mModuleNotFoundError\u001b[0m: No module named 'torch'"
     ]
    }
   ],
   "source": [
    "# Generic python libraries\n",
    "import os\n",
    "import math\n",
    "import random\n",
    "from PIL import Image\n",
    "from random import sample\n",
    "\n",
    "# PyTorch and numpy related\n",
    "import torch\n",
    "import torchvision\n",
    "import numpy as np\n",
    "import torch.nn as nn\n",
    "import torch.optim as optim\n",
    "import torch.nn.functional as F\n",
    "from torchvision import transforms\n",
    "from torch.utils.data import Dataset, DataLoader, random_split"
   ]
  },
  {
   "cell_type": "code",
   "execution_count": 5,
   "metadata": {},
   "outputs": [],
   "source": [
    "from PIL import Image\n",
    "import numpy as np\n"
   ]
  },
  {
   "cell_type": "code",
   "execution_count": 2,
   "metadata": {},
   "outputs": [],
   "source": [
    "  def image_stats(image_list):\n",
    "    widths = []\n",
    "    heights = []\n",
    "    for img in image_list:\n",
    "      widths.append(img.width)\n",
    "      heights.append(img.height)        \n",
    "    print(f\"Max: {max(widths)}, {max(heights)}\")\n",
    "    print(f\"Min: {min(widths)}, {min(heights)}\")\n",
    "    print(f\"Mean: {np.average(widths)}, {np.average(heights)}\")"
   ]
  },
  {
   "cell_type": "code",
   "execution_count": 34,
   "metadata": {},
   "outputs": [],
   "source": [
    "def get_padding(image):    \n",
    "    h, w = test.shape\n",
    "    max_wh = np.max([w, h])\n",
    "    h_padding = (max_wh - w) / 2\n",
    "    v_padding = (max_wh - h) / 2\n",
    "    l_pad = h_padding if h_padding % 1 == 0 else h_padding+0.5\n",
    "    t_pad = v_padding if v_padding % 1 == 0 else v_padding+0.5\n",
    "    r_pad = h_padding if h_padding % 1 == 0 else h_padding-0.5\n",
    "    b_pad = v_padding if v_padding % 1 == 0 else v_padding-0.5\n",
    "    padding = int(t_pad), int(b_pad), int(l_pad), int(r_pad)\n",
    "    return padding\n",
    "\n",
    "class CustomPad(object):\n",
    "    def __init__(self, fill=0, padding_mode='constant'):\n",
    "        assert padding_mode in ['constant', 'edge', 'reflect', 'symmetric']\n",
    "\n",
    "        self.fill = fill\n",
    "        self.padding_mode = padding_mode\n",
    "        \n",
    "    def __call__(self, img):\n",
    "        \"\"\"\n",
    "        Args:\n",
    "            img (PIL Image): Image to be padded.\n",
    "\n",
    "        Returns:\n",
    "            PIL Image: Padded image.\n",
    "        \"\"\"\n",
    "        padding = torchvision.transforms.Pad(get_padding(img),self.fill, self.padding_mode)\n",
    "        return padding(img)"
   ]
  },
  {
   "cell_type": "code",
   "execution_count": 4,
   "metadata": {},
   "outputs": [],
   "source": [
    "class ObjectDetectionTrainDataset(Dataset):\n",
    "  \n",
    "  def __init__(self):\n",
    "        \n",
    "    self.boxes = []\n",
    "    self.raw_images = []\n",
    "    self.processed_images = []\n",
    "    base_path = \"/home/humberto/src/Univ/DATASETS/orand-car-with-bbs/training\"\n",
    "    current_annotations = os.listdir(f\"{base_path}/annotations\")\n",
    "    \n",
    "    preprocess_pipeline = transforms.Compose([\n",
    "      CustomPad(),\n",
    "      transforms.Resize(600)\n",
    "    ])\n",
    "    \n",
    "    \n",
    "    for annotation in current_annotations:\n",
    "        # Parsing File names structure\n",
    "        annotation_file = f\"{base_path}/annotations/{annotation}\"\n",
    "        image_file = base_path +\"/images/\"+annotation.split(\".\")[0]+\".png\"\n",
    "        \n",
    "        # Opening Both annotations and image file\n",
    "        annotation_file = open(annotation_file, \"r\")\n",
    "        annotation_lines = annotation_file.readlines()\n",
    "        image = Image.open(image_file).convert(\"RGB\")\n",
    "        # Storing tensor version of the image and raw_image as well\n",
    "        self.raw_images.append(image)\n",
    "        self.processed_images.append(image)\n",
    "        \n",
    "        # Building the required structure for boxes and classes\n",
    "        coords = []\n",
    "        classes = []\n",
    "        for line in annotation_lines:\n",
    "            digit_class, boundaries = line.split(\":\")\n",
    "            x1, y1, w, h = [ int(x) for x in boundaries.strip().split(\",\") ]\n",
    "            coords.append([x1,y1,x1+w,y1+h])\n",
    "            classes.append(int(digit_class))\n",
    "        \n",
    "        self.boxes.append({\n",
    "            \"labels\": torch.tensor(classes),\n",
    "            \"boxes\": torch.tensor(coords)\n",
    "        })\n",
    "        annotation_file.close()\n",
    "      \n",
    "  def __len__(self):\n",
    "    return len(self.processed_images)\n",
    "\n",
    "  def __getitem__(self, idx):\n",
    "    return self.processed_images[idx], self.boxes[idx]\n",
    "\n"
   ]
  },
  {
   "cell_type": "code",
   "execution_count": 44,
   "metadata": {},
   "outputs": [
    {
     "name": "stdout",
     "output_type": "stream",
     "text": [
      "(80, 266)\n",
      "(93, 93, 0, 0)\n",
      "(300, 300)\n",
      "(250, 250)\n"
     ]
    },
    {
     "data": {
      "text/plain": [
       "<matplotlib.image.AxesImage at 0x2678d406e48>"
      ]
     },
     "execution_count": 44,
     "metadata": {},
     "output_type": "execute_result"
    },
    {
     "data": {
      "image/png": "[encoded data removed]",
      "text/plain": [
       "<Figure size 432x288 with 1 Axes>"
      ]
     },
     "metadata": {
      "needs_background": "light"
     },
     "output_type": "display_data"
    }
   ],
   "source": [
    "from skimage import data, io, transform, util\n",
    "\n",
    "test = io.imread(\"../orand-car-with-bbs/training/images/anv_5556813_4177.png\")\n",
    "print(test.shape)\n",
    "print(get_padding(test))\n",
    "padding = get_padding(test)\n",
    "test = np.pad(test, [(padding[0], padding[1]), (padding[2], padding[3])])\n",
    "test = transform.resize(test, (300,300), anti_aliasing=True)\n",
    "print(test.shape)\n",
    "test = util.crop(test, [(25,25),(25,25)])\n",
    "print(test.shape)\n",
    "io.imshow(test)"
   ]
  },
  {
   "cell_type": "code",
   "execution_count": 5,
   "metadata": {},
   "outputs": [
    {
     "name": "stdout",
     "output_type": "stream",
     "text": [
      "/home/humberto/src/Univ/DATASETS/orand-car-with-bbs/training/images/anv_5556813_4177.png 80 266\n"
     ]
    },
    {
     "ename": "KeyboardInterrupt",
     "evalue": "Interrupted by user",
     "output_type": "error",
     "traceback": [
      "\u001b[0;31m---------------------------------------------------------------------------\u001b[0m",
      "\u001b[0;31mKeyboardInterrupt\u001b[0m                         Traceback (most recent call last)",
      "\u001b[0;32m<ipython-input-5-1585d653577e>\u001b[0m in \u001b[0;36m<module>\u001b[0;34m\u001b[0m\n\u001b[0;32m----> 1\u001b[0;31m \u001b[0mt_dataset\u001b[0m \u001b[0;34m=\u001b[0m \u001b[0mObjectDetectionTrainDataset\u001b[0m\u001b[0;34m(\u001b[0m\u001b[0;34m)\u001b[0m\u001b[0;34m\u001b[0m\u001b[0;34m\u001b[0m\u001b[0m\n\u001b[0m",
      "\u001b[0;32m<ipython-input-4-f1a1e5c93252>\u001b[0m in \u001b[0;36m__init__\u001b[0;34m(self)\u001b[0m\n\u001b[1;32m     26\u001b[0m         \u001b[0mprint\u001b[0m\u001b[0;34m(\u001b[0m\u001b[0mimage_file\u001b[0m\u001b[0;34m,\u001b[0m \u001b[0mimage\u001b[0m\u001b[0;34m.\u001b[0m\u001b[0mheight\u001b[0m\u001b[0;34m,\u001b[0m \u001b[0mimage\u001b[0m\u001b[0;34m.\u001b[0m\u001b[0mwidth\u001b[0m\u001b[0;34m)\u001b[0m\u001b[0;34m\u001b[0m\u001b[0;34m\u001b[0m\u001b[0m\n\u001b[1;32m     27\u001b[0m         \u001b[0mimage\u001b[0m\u001b[0;34m.\u001b[0m\u001b[0mshow\u001b[0m\u001b[0;34m(\u001b[0m\u001b[0;34m)\u001b[0m\u001b[0;34m\u001b[0m\u001b[0;34m\u001b[0m\u001b[0m\n\u001b[0;32m---> 28\u001b[0;31m         \u001b[0minput\u001b[0m\u001b[0;34m(\u001b[0m\u001b[0;34m)\u001b[0m\u001b[0;34m\u001b[0m\u001b[0;34m\u001b[0m\u001b[0m\n\u001b[0m\u001b[1;32m     29\u001b[0m         \u001b[0;31m# Storing tensor version of the image and raw_image as well\u001b[0m\u001b[0;34m\u001b[0m\u001b[0;34m\u001b[0m\u001b[0;34m\u001b[0m\u001b[0m\n\u001b[1;32m     30\u001b[0m         \u001b[0mself\u001b[0m\u001b[0;34m.\u001b[0m\u001b[0mraw_images\u001b[0m\u001b[0;34m.\u001b[0m\u001b[0mappend\u001b[0m\u001b[0;34m(\u001b[0m\u001b[0mimage\u001b[0m\u001b[0;34m)\u001b[0m\u001b[0;34m\u001b[0m\u001b[0;34m\u001b[0m\u001b[0m\n",
      "\u001b[0;32m~/miniconda3/envs/torch/lib/python3.6/site-packages/ipykernel/kernelbase.py\u001b[0m in \u001b[0;36mraw_input\u001b[0;34m(self, prompt)\u001b[0m\n\u001b[1;32m    861\u001b[0m             \u001b[0mself\u001b[0m\u001b[0;34m.\u001b[0m\u001b[0m_parent_ident\u001b[0m\u001b[0;34m,\u001b[0m\u001b[0;34m\u001b[0m\u001b[0;34m\u001b[0m\u001b[0m\n\u001b[1;32m    862\u001b[0m             \u001b[0mself\u001b[0m\u001b[0;34m.\u001b[0m\u001b[0m_parent_header\u001b[0m\u001b[0;34m,\u001b[0m\u001b[0;34m\u001b[0m\u001b[0;34m\u001b[0m\u001b[0m\n\u001b[0;32m--> 863\u001b[0;31m             \u001b[0mpassword\u001b[0m\u001b[0;34m=\u001b[0m\u001b[0;32mFalse\u001b[0m\u001b[0;34m,\u001b[0m\u001b[0;34m\u001b[0m\u001b[0;34m\u001b[0m\u001b[0m\n\u001b[0m\u001b[1;32m    864\u001b[0m         )\n\u001b[1;32m    865\u001b[0m \u001b[0;34m\u001b[0m\u001b[0m\n",
      "\u001b[0;32m~/miniconda3/envs/torch/lib/python3.6/site-packages/ipykernel/kernelbase.py\u001b[0m in \u001b[0;36m_input_request\u001b[0;34m(self, prompt, ident, parent, password)\u001b[0m\n\u001b[1;32m    902\u001b[0m             \u001b[0;32mexcept\u001b[0m \u001b[0mKeyboardInterrupt\u001b[0m\u001b[0;34m:\u001b[0m\u001b[0;34m\u001b[0m\u001b[0;34m\u001b[0m\u001b[0m\n\u001b[1;32m    903\u001b[0m                 \u001b[0;31m# re-raise KeyboardInterrupt, to truncate traceback\u001b[0m\u001b[0;34m\u001b[0m\u001b[0;34m\u001b[0m\u001b[0;34m\u001b[0m\u001b[0m\n\u001b[0;32m--> 904\u001b[0;31m                 \u001b[0;32mraise\u001b[0m \u001b[0mKeyboardInterrupt\u001b[0m\u001b[0;34m(\u001b[0m\u001b[0;34m\"Interrupted by user\"\u001b[0m\u001b[0;34m)\u001b[0m \u001b[0;32mfrom\u001b[0m \u001b[0;32mNone\u001b[0m\u001b[0;34m\u001b[0m\u001b[0;34m\u001b[0m\u001b[0m\n\u001b[0m\u001b[1;32m    905\u001b[0m             \u001b[0;32mexcept\u001b[0m \u001b[0mException\u001b[0m \u001b[0;32mas\u001b[0m \u001b[0me\u001b[0m\u001b[0;34m:\u001b[0m\u001b[0;34m\u001b[0m\u001b[0;34m\u001b[0m\u001b[0m\n\u001b[1;32m    906\u001b[0m                 \u001b[0mself\u001b[0m\u001b[0;34m.\u001b[0m\u001b[0mlog\u001b[0m\u001b[0;34m.\u001b[0m\u001b[0mwarning\u001b[0m\u001b[0;34m(\u001b[0m\u001b[0;34m\"Invalid Message:\"\u001b[0m\u001b[0;34m,\u001b[0m \u001b[0mexc_info\u001b[0m\u001b[0;34m=\u001b[0m\u001b[0;32mTrue\u001b[0m\u001b[0;34m)\u001b[0m\u001b[0;34m\u001b[0m\u001b[0;34m\u001b[0m\u001b[0m\n",
      "\u001b[0;31mKeyboardInterrupt\u001b[0m: Interrupted by user"
     ]
    }
   ],
   "source": [
    "t_dataset = ObjectDetectionTrainDataset()"
   ]
  },
  {
   "cell_type": "code",
   "execution_count": null,
   "metadata": {},
   "outputs": [],
   "source": [
    "train_dataset_size = int(0.8 * len(t_dataset))\n",
    "val_dataset_size = int(len(t_dataset) - train_dataset_size)\n",
    "\n",
    "# Splitting train data into validation and train\n",
    "train_dataset, val_dataset = random_split(t_dataset, [train_dataset_size, val_dataset_size])"
   ]
  },
  {
   "cell_type": "code",
   "execution_count": null,
   "metadata": {
    "scrolled": true
   },
   "outputs": [],
   "source": [
    "for img in val_dataset:\n",
    "    img[0].show()\n",
    "    x = input()"
   ]
  },
  {
   "cell_type": "code",
   "execution_count": null,
   "metadata": {},
   "outputs": [],
   "source": [
    "print(f\"Train dataset size: {len(train_dataset)} -- Val Dataset size: {len(val_dataset)}\")"
   ]
  },
  {
   "cell_type": "code",
   "execution_count": null,
   "metadata": {},
   "outputs": [],
   "source": [
    "def collater(batch):\n",
    "    img_data = [x[0] for x in batch]\n",
    "    box_data = [x[1] for x in batch]\n",
    "    return torch.stack(img_data), box_data"
   ]
  },
  {
   "cell_type": "code",
   "execution_count": null,
   "metadata": {},
   "outputs": [],
   "source": [
    "def train(data, network, optimizer, device, lamb=0.6):\n",
    "  network.train()\n",
    "  loss = 0\n",
    "  i = 0\n",
    "  for input, target in data:\n",
    "    input = input.to(device).float()\n",
    "    for t in target:\n",
    "        t[\"labels\"] = t[\"labels\"].to(device)\n",
    "        t[\"boxes\"] = t[\"boxes\"].to(device)\n",
    "    output = network(input, target)\n",
    "    current_loss = (lamb * output[\"classification\"]) + ((1-lamb) * output[\"bbox_regression\"])\n",
    "    loss += current_loss.item()\n",
    "    current_loss.backward()\n",
    "    optimizer.step()\n",
    "    break\n",
    "    if i % 30 == 0:\n",
    "        print(f\"Batch: {i}\")\n",
    "    i+=1\n",
    "  return loss\n",
    "\n",
    "def validation(data, network, device):\n",
    "  network.eval()\n",
    "  acc_c = 0\n",
    "  with torch.no_grad():\n",
    "    for input, target in data:\n",
    "      input = input.to(device).float()\n",
    "      for t in target:\n",
    "        t[\"labels\"] = t[\"labels\"].to(device)\n",
    "        t[\"boxes\"] = t[\"boxes\"].to(device)\n",
    "      output = network(input)\n",
    "      print(output)\n",
    "    return 0\n",
    "\n",
    "#run epochs -> \n",
    "def run_epochs(network, train_dataset, val_dataset, optimizer, epochs=5, batch_size=24, device='cuda', collate=collater):\n",
    "  network.to(device)\n",
    "  train_data = DataLoader(train_dataset,batch_size=batch_size,shuffle=True,collate_fn=collate)\n",
    "  val_data = DataLoader(val_dataset,batch_size=batch_size,shuffle=True,collate_fn=collate)\n",
    "  train_loss, train_acc = [], []\n",
    "  val_loss, val_acc = [], []\n",
    "  for e in range(1,epochs+1):\n",
    "    t_loss = train(train_data, network, optimizer, device)\n",
    "    v_acc = validation(val_data, network, device)\n",
    "\n",
    "    train_loss.append(t_loss/len(train_dataset)*batch_size)\n",
    "    val_acc.append(v_acc/len(val_dataset)*100)\n",
    "\n",
    "#     print(f\"Epoch: {e} \\n Train | Acc: {train_acc[-1]:.3f}% | loss: {train_loss[-1]:.3f} \\n Val   | Acc: {val_acc[-1]:.3f}% | loss: {val_loss[-1]:.3f}\")\n",
    "    print(f\"Epoch: {e} \\n Train | loss: {train_loss[-1]:.3f}\")\n",
    "\n",
    "    #   generate_comparison_charts(train_loss,val_loss,train_acc,val_acc)"
   ]
  },
  {
   "cell_type": "code",
   "execution_count": null,
   "metadata": {
    "scrolled": true
   },
   "outputs": [],
   "source": [
    "LR = 1e-5\n",
    "model = torchvision.models.detection.retinanet_resnet50_fpn(pretrained=False,num_classes=10)\n",
    "optimizer = optim.AdamW(model.parameters(),lr=LR)\n",
    "run_epochs(model,train_dataset,val_dataset,optimizer)"
   ]
  },
  {
   "cell_type": "code",
   "execution_count": null,
   "metadata": {},
   "outputs": [],
   "source": []
  },
  {
   "cell_type": "code",
   "execution_count": null,
   "metadata": {},
   "outputs": [],
   "source": []
  }
 ],
 "metadata": {
  "kernelspec": {
   "display_name": "Python 3",
   "language": "python",
   "name": "python3"
  },
  "language_info": {
   "codemirror_mode": {
    "name": "ipython",
    "version": 3
   },
   "file_extension": ".py",
   "mimetype": "text/x-python",
   "name": "python",
   "nbconvert_exporter": "python",
   "pygments_lexer": "ipython3",
   "version": "3.7.8"
  }
 },
 "nbformat": 4,
 "nbformat_minor": 5
}
